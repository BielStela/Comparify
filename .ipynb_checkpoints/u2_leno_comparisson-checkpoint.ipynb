{
 "cells": [
  {
   "cell_type": "code",
   "execution_count": 1,
   "metadata": {},
   "outputs": [],
   "source": [
    "%load_ext autoreload\n",
    "%autoreload 1"
   ]
  },
  {
   "cell_type": "code",
   "execution_count": 34,
   "metadata": {},
   "outputs": [],
   "source": [
    "from spotipy.oauth2 import SpotifyClientCredentials\n",
    "import pandas as pd\n",
    "import doki"
   ]
  },
  {
   "cell_type": "code",
   "execution_count": 5,
   "metadata": {},
   "outputs": [],
   "source": [
    "user_id = ''\n",
    "user_secret = ''\n",
    "credent_manager = SpotifyClientCredentials(user_id, user_secret)"
   ]
  },
  {
   "cell_type": "code",
   "execution_count": 31,
   "metadata": {},
   "outputs": [],
   "source": [
    "da_souza_id = '3rD7bBI9zkYhu62o79tWe6'\n",
    "doki_sdf = doki.SongsDataFrame(credent_manager, da_souza_id)"
   ]
  },
  {
   "cell_type": "code",
   "execution_count": 32,
   "metadata": {},
   "outputs": [
    {
     "data": {
      "text/html": [
       "<div>\n",
       "<style scoped>\n",
       "    .dataframe tbody tr th:only-of-type {\n",
       "        vertical-align: middle;\n",
       "    }\n",
       "\n",
       "    .dataframe tbody tr th {\n",
       "        vertical-align: top;\n",
       "    }\n",
       "\n",
       "    .dataframe thead th {\n",
       "        text-align: right;\n",
       "    }\n",
       "</style>\n",
       "<table border=\"1\" class=\"dataframe\">\n",
       "  <thead>\n",
       "    <tr style=\"text-align: right;\">\n",
       "      <th></th>\n",
       "      <th>id</th>\n",
       "      <th>name</th>\n",
       "      <th>album</th>\n",
       "      <th>energy</th>\n",
       "      <th>duration_ms</th>\n",
       "      <th>loudness</th>\n",
       "      <th>valence</th>\n",
       "      <th>danceability</th>\n",
       "      <th>tempo</th>\n",
       "      <th>speechiness</th>\n",
       "      <th>instrumentalness</th>\n",
       "      <th>acousticness</th>\n",
       "      <th>liveness</th>\n",
       "    </tr>\n",
       "  </thead>\n",
       "  <tbody>\n",
       "    <tr>\n",
       "      <th>0</th>\n",
       "      <td>4aaco211p3HFubmFfBoaxj</td>\n",
       "      <td>Noves Venècies</td>\n",
       "      <td>Futbol d'Avantguarda</td>\n",
       "      <td>0.356</td>\n",
       "      <td>80639.0</td>\n",
       "      <td>-8.716</td>\n",
       "      <td>0.608</td>\n",
       "      <td>0.582</td>\n",
       "      <td>130.898</td>\n",
       "      <td>0.0321</td>\n",
       "      <td>0.1260</td>\n",
       "      <td>0.4520</td>\n",
       "      <td>0.1180</td>\n",
       "    </tr>\n",
       "    <tr>\n",
       "      <th>1</th>\n",
       "      <td>4N5E7jIK4Ti9yXoshshQ1J</td>\n",
       "      <td>Migracions de salmons</td>\n",
       "      <td>Futbol d'Avantguarda</td>\n",
       "      <td>0.610</td>\n",
       "      <td>195882.0</td>\n",
       "      <td>-7.193</td>\n",
       "      <td>0.657</td>\n",
       "      <td>0.535</td>\n",
       "      <td>125.950</td>\n",
       "      <td>0.0299</td>\n",
       "      <td>0.2550</td>\n",
       "      <td>0.1340</td>\n",
       "      <td>0.1310</td>\n",
       "    </tr>\n",
       "    <tr>\n",
       "      <th>2</th>\n",
       "      <td>0hdwI9Xf7GnJUyUmXNETt0</td>\n",
       "      <td>Finals</td>\n",
       "      <td>Futbol d'Avantguarda</td>\n",
       "      <td>0.610</td>\n",
       "      <td>214981.0</td>\n",
       "      <td>-6.603</td>\n",
       "      <td>0.720</td>\n",
       "      <td>0.638</td>\n",
       "      <td>130.071</td>\n",
       "      <td>0.0304</td>\n",
       "      <td>0.0491</td>\n",
       "      <td>0.0598</td>\n",
       "      <td>0.1400</td>\n",
       "    </tr>\n",
       "    <tr>\n",
       "      <th>3</th>\n",
       "      <td>0ERzbcM3uYCmH0zuONy02y</td>\n",
       "      <td>Tan enfora</td>\n",
       "      <td>Futbol d'Avantguarda</td>\n",
       "      <td>0.723</td>\n",
       "      <td>231531.0</td>\n",
       "      <td>-6.709</td>\n",
       "      <td>0.537</td>\n",
       "      <td>0.607</td>\n",
       "      <td>120.025</td>\n",
       "      <td>0.0285</td>\n",
       "      <td>0.1620</td>\n",
       "      <td>0.2160</td>\n",
       "      <td>0.2280</td>\n",
       "    </tr>\n",
       "    <tr>\n",
       "      <th>4</th>\n",
       "      <td>2IjcG82yOERIFe9bV4dWrL</td>\n",
       "      <td>Dos microbis</td>\n",
       "      <td>Futbol d'Avantguarda</td>\n",
       "      <td>0.422</td>\n",
       "      <td>150776.0</td>\n",
       "      <td>-9.703</td>\n",
       "      <td>0.384</td>\n",
       "      <td>0.375</td>\n",
       "      <td>153.432</td>\n",
       "      <td>0.0424</td>\n",
       "      <td>0.5250</td>\n",
       "      <td>0.6220</td>\n",
       "      <td>0.0983</td>\n",
       "    </tr>\n",
       "  </tbody>\n",
       "</table>\n",
       "</div>"
      ],
      "text/plain": [
       "                       id                   name                 album  \\\n",
       "0  4aaco211p3HFubmFfBoaxj         Noves Venècies  Futbol d'Avantguarda   \n",
       "1  4N5E7jIK4Ti9yXoshshQ1J  Migracions de salmons  Futbol d'Avantguarda   \n",
       "2  0hdwI9Xf7GnJUyUmXNETt0                 Finals  Futbol d'Avantguarda   \n",
       "3  0ERzbcM3uYCmH0zuONy02y             Tan enfora  Futbol d'Avantguarda   \n",
       "4  2IjcG82yOERIFe9bV4dWrL           Dos microbis  Futbol d'Avantguarda   \n",
       "\n",
       "   energy  duration_ms  loudness  valence  danceability    tempo  speechiness  \\\n",
       "0   0.356      80639.0    -8.716    0.608         0.582  130.898       0.0321   \n",
       "1   0.610     195882.0    -7.193    0.657         0.535  125.950       0.0299   \n",
       "2   0.610     214981.0    -6.603    0.720         0.638  130.071       0.0304   \n",
       "3   0.723     231531.0    -6.709    0.537         0.607  120.025       0.0285   \n",
       "4   0.422     150776.0    -9.703    0.384         0.375  153.432       0.0424   \n",
       "\n",
       "   instrumentalness  acousticness  liveness  \n",
       "0            0.1260        0.4520    0.1180  \n",
       "1            0.2550        0.1340    0.1310  \n",
       "2            0.0491        0.0598    0.1400  \n",
       "3            0.1620        0.2160    0.2280  \n",
       "4            0.5250        0.6220    0.0983  "
      ]
     },
     "execution_count": 32,
     "metadata": {},
     "output_type": "execute_result"
    }
   ],
   "source": [
    "doki_df = doki_sdf.data_frame\n",
    "doki_df.head()"
   ]
  },
  {
   "cell_type": "markdown",
   "metadata": {},
   "source": [
    "## Leño"
   ]
  },
  {
   "cell_type": "code",
   "execution_count": 11,
   "metadata": {},
   "outputs": [],
   "source": [
    "leno_id = '5CA8MVh6ESzTlJcsB8wcFJ'\n",
    "leno_df = doki.SongsDataFrame(credent_manager, leno_id)"
   ]
  },
  {
   "cell_type": "code",
   "execution_count": 14,
   "metadata": {},
   "outputs": [],
   "source": [
    "leno_df = leno_df.data_frame"
   ]
  },
  {
   "cell_type": "code",
   "execution_count": 17,
   "metadata": {},
   "outputs": [
    {
     "data": {
      "text/plain": [
       "array(['Esencial Leño', 'Leño 1978-1983 (Versión Audio)',\n",
       "       'Maneras De Vivir', 'Corre Corre', 'En Directo', 'Mas Madera',\n",
       "       'Leño'], dtype=object)"
      ]
     },
     "execution_count": 17,
     "metadata": {},
     "output_type": "execute_result"
    }
   ],
   "source": [
    "leno_df.album.unique()"
   ]
  },
  {
   "cell_type": "code",
   "execution_count": 16,
   "metadata": {},
   "outputs": [],
   "source": [
    "# filter a non Le~no album\n",
    "leno_df = leno_df[leno_df.album != 'Jovem Guarda 35 Anos Leno, Vol. 1']"
   ]
  },
  {
   "cell_type": "code",
   "execution_count": 23,
   "metadata": {},
   "outputs": [
    {
     "data": {
      "text/html": [
       "<div>\n",
       "<style scoped>\n",
       "    .dataframe tbody tr th:only-of-type {\n",
       "        vertical-align: middle;\n",
       "    }\n",
       "\n",
       "    .dataframe tbody tr th {\n",
       "        vertical-align: top;\n",
       "    }\n",
       "\n",
       "    .dataframe thead th {\n",
       "        text-align: right;\n",
       "    }\n",
       "</style>\n",
       "<table border=\"1\" class=\"dataframe\">\n",
       "  <thead>\n",
       "    <tr style=\"text-align: right;\">\n",
       "      <th></th>\n",
       "      <th>id</th>\n",
       "      <th>name</th>\n",
       "      <th>album</th>\n",
       "      <th>energy</th>\n",
       "      <th>duration_ms</th>\n",
       "      <th>loudness</th>\n",
       "      <th>valence</th>\n",
       "      <th>danceability</th>\n",
       "      <th>tempo</th>\n",
       "      <th>speechiness</th>\n",
       "      <th>instrumentalness</th>\n",
       "      <th>acousticness</th>\n",
       "      <th>liveness</th>\n",
       "    </tr>\n",
       "  </thead>\n",
       "  <tbody>\n",
       "    <tr>\n",
       "      <th>0</th>\n",
       "      <td>6zc7lU9FWugn6zRg0yoBwO</td>\n",
       "      <td>Maneras de Vivir (Single Estudio)</td>\n",
       "      <td>Esencial Leño</td>\n",
       "      <td>0.744</td>\n",
       "      <td>251320.0</td>\n",
       "      <td>-5.827</td>\n",
       "      <td>0.711</td>\n",
       "      <td>0.617</td>\n",
       "      <td>126.459</td>\n",
       "      <td>0.0280</td>\n",
       "      <td>0.000004</td>\n",
       "      <td>0.006470</td>\n",
       "      <td>0.281</td>\n",
       "    </tr>\n",
       "    <tr>\n",
       "      <th>1</th>\n",
       "      <td>4BuhmDwIm9gsPaa0jW9aw2</td>\n",
       "      <td>Sorprendente</td>\n",
       "      <td>Esencial Leño</td>\n",
       "      <td>0.887</td>\n",
       "      <td>245693.0</td>\n",
       "      <td>-4.647</td>\n",
       "      <td>0.521</td>\n",
       "      <td>0.369</td>\n",
       "      <td>168.314</td>\n",
       "      <td>0.0669</td>\n",
       "      <td>0.000009</td>\n",
       "      <td>0.000106</td>\n",
       "      <td>0.171</td>\n",
       "    </tr>\n",
       "    <tr>\n",
       "      <th>2</th>\n",
       "      <td>5cNPxHhXkhzCukq4mIiJay</td>\n",
       "      <td>El Tren</td>\n",
       "      <td>Esencial Leño</td>\n",
       "      <td>0.774</td>\n",
       "      <td>265613.0</td>\n",
       "      <td>-5.385</td>\n",
       "      <td>0.569</td>\n",
       "      <td>0.273</td>\n",
       "      <td>188.265</td>\n",
       "      <td>0.1010</td>\n",
       "      <td>0.007260</td>\n",
       "      <td>0.136000</td>\n",
       "      <td>0.293</td>\n",
       "    </tr>\n",
       "    <tr>\n",
       "      <th>3</th>\n",
       "      <td>4okU5nXEpRB0J2exEVp5ow</td>\n",
       "      <td>No Se Vende el Rock &amp; Roll</td>\n",
       "      <td>Esencial Leño</td>\n",
       "      <td>0.860</td>\n",
       "      <td>190667.0</td>\n",
       "      <td>-4.180</td>\n",
       "      <td>0.809</td>\n",
       "      <td>0.625</td>\n",
       "      <td>92.160</td>\n",
       "      <td>0.0251</td>\n",
       "      <td>0.000017</td>\n",
       "      <td>0.001170</td>\n",
       "      <td>0.136</td>\n",
       "    </tr>\n",
       "    <tr>\n",
       "      <th>4</th>\n",
       "      <td>5IYfUjvMrxM0fWLhsyj97T</td>\n",
       "      <td>Apágalas</td>\n",
       "      <td>Esencial Leño</td>\n",
       "      <td>0.889</td>\n",
       "      <td>151080.0</td>\n",
       "      <td>-8.192</td>\n",
       "      <td>0.798</td>\n",
       "      <td>0.438</td>\n",
       "      <td>181.142</td>\n",
       "      <td>0.1130</td>\n",
       "      <td>0.000021</td>\n",
       "      <td>0.022000</td>\n",
       "      <td>0.172</td>\n",
       "    </tr>\n",
       "  </tbody>\n",
       "</table>\n",
       "</div>"
      ],
      "text/plain": [
       "                       id                               name          album  \\\n",
       "0  6zc7lU9FWugn6zRg0yoBwO  Maneras de Vivir (Single Estudio)  Esencial Leño   \n",
       "1  4BuhmDwIm9gsPaa0jW9aw2                       Sorprendente  Esencial Leño   \n",
       "2  5cNPxHhXkhzCukq4mIiJay                            El Tren  Esencial Leño   \n",
       "3  4okU5nXEpRB0J2exEVp5ow         No Se Vende el Rock & Roll  Esencial Leño   \n",
       "4  5IYfUjvMrxM0fWLhsyj97T                           Apágalas  Esencial Leño   \n",
       "\n",
       "   energy  duration_ms  loudness  valence  danceability    tempo  speechiness  \\\n",
       "0   0.744     251320.0    -5.827    0.711         0.617  126.459       0.0280   \n",
       "1   0.887     245693.0    -4.647    0.521         0.369  168.314       0.0669   \n",
       "2   0.774     265613.0    -5.385    0.569         0.273  188.265       0.1010   \n",
       "3   0.860     190667.0    -4.180    0.809         0.625   92.160       0.0251   \n",
       "4   0.889     151080.0    -8.192    0.798         0.438  181.142       0.1130   \n",
       "\n",
       "   instrumentalness  acousticness  liveness  \n",
       "0          0.000004      0.006470     0.281  \n",
       "1          0.000009      0.000106     0.171  \n",
       "2          0.007260      0.136000     0.293  \n",
       "3          0.000017      0.001170     0.136  \n",
       "4          0.000021      0.022000     0.172  "
      ]
     },
     "execution_count": 23,
     "metadata": {},
     "output_type": "execute_result"
    }
   ],
   "source": [
    "leno_df.head()"
   ]
  },
  {
   "cell_type": "markdown",
   "metadata": {},
   "source": [
    "## U2"
   ]
  },
  {
   "cell_type": "code",
   "execution_count": 18,
   "metadata": {},
   "outputs": [],
   "source": [
    "u2_id = '51Blml2LZPmy7TTiAg47vQ'\n",
    "u2_sdf = doki.SongsDataFrame(credent_manager, u2_id)"
   ]
  },
  {
   "cell_type": "code",
   "execution_count": 20,
   "metadata": {},
   "outputs": [],
   "source": [
    "u2_df = u2_sdf.data_frame"
   ]
  },
  {
   "cell_type": "code",
   "execution_count": 21,
   "metadata": {},
   "outputs": [
    {
     "data": {
      "text/plain": [
       "array(['Songs Of Experience (Deluxe Edition)', 'Songs Of Innocence',\n",
       "       'Songs Of Innocence (Deluxe)', 'No Line On The Horizon',\n",
       "       'How To Dismantle An Atomic Bomb',\n",
       "       \"All That You Can't Leave Behind\", 'Pop', 'Zooropa',\n",
       "       'Achtung Baby (Deluxe Edition)', 'Achtung Baby', 'Rattle And Hum',\n",
       "       'The Joshua Tree'], dtype=object)"
      ]
     },
     "execution_count": 21,
     "metadata": {},
     "output_type": "execute_result"
    }
   ],
   "source": [
    "u2_df.album.unique()"
   ]
  },
  {
   "cell_type": "code",
   "execution_count": 22,
   "metadata": {},
   "outputs": [
    {
     "data": {
      "text/html": [
       "<div>\n",
       "<style scoped>\n",
       "    .dataframe tbody tr th:only-of-type {\n",
       "        vertical-align: middle;\n",
       "    }\n",
       "\n",
       "    .dataframe tbody tr th {\n",
       "        vertical-align: top;\n",
       "    }\n",
       "\n",
       "    .dataframe thead th {\n",
       "        text-align: right;\n",
       "    }\n",
       "</style>\n",
       "<table border=\"1\" class=\"dataframe\">\n",
       "  <thead>\n",
       "    <tr style=\"text-align: right;\">\n",
       "      <th></th>\n",
       "      <th>id</th>\n",
       "      <th>name</th>\n",
       "      <th>album</th>\n",
       "      <th>energy</th>\n",
       "      <th>duration_ms</th>\n",
       "      <th>loudness</th>\n",
       "      <th>valence</th>\n",
       "      <th>danceability</th>\n",
       "      <th>tempo</th>\n",
       "      <th>speechiness</th>\n",
       "      <th>instrumentalness</th>\n",
       "      <th>acousticness</th>\n",
       "      <th>liveness</th>\n",
       "    </tr>\n",
       "  </thead>\n",
       "  <tbody>\n",
       "    <tr>\n",
       "      <th>0</th>\n",
       "      <td>5AJELyHZSWSdymDpaVMyoe</td>\n",
       "      <td>Love Is All We Have Left</td>\n",
       "      <td>Songs Of Experience (Deluxe Edition)</td>\n",
       "      <td>0.295</td>\n",
       "      <td>161200.0</td>\n",
       "      <td>-14.812</td>\n",
       "      <td>0.0698</td>\n",
       "      <td>0.288</td>\n",
       "      <td>131.287</td>\n",
       "      <td>0.0367</td>\n",
       "      <td>0.000848</td>\n",
       "      <td>0.72300</td>\n",
       "      <td>0.130</td>\n",
       "    </tr>\n",
       "    <tr>\n",
       "      <th>1</th>\n",
       "      <td>51yhbYGf810PT1a3AYpUeS</td>\n",
       "      <td>Lights Of Home</td>\n",
       "      <td>Songs Of Experience (Deluxe Edition)</td>\n",
       "      <td>0.709</td>\n",
       "      <td>256893.0</td>\n",
       "      <td>-7.120</td>\n",
       "      <td>0.4610</td>\n",
       "      <td>0.615</td>\n",
       "      <td>145.961</td>\n",
       "      <td>0.0332</td>\n",
       "      <td>0.000000</td>\n",
       "      <td>0.08420</td>\n",
       "      <td>0.167</td>\n",
       "    </tr>\n",
       "    <tr>\n",
       "      <th>2</th>\n",
       "      <td>2meVI2BSKTac27IxMB8GfE</td>\n",
       "      <td>You’re The Best Thing About Me</td>\n",
       "      <td>Songs Of Experience (Deluxe Edition)</td>\n",
       "      <td>0.783</td>\n",
       "      <td>225400.0</td>\n",
       "      <td>-6.706</td>\n",
       "      <td>0.7930</td>\n",
       "      <td>0.652</td>\n",
       "      <td>117.032</td>\n",
       "      <td>0.0379</td>\n",
       "      <td>0.000002</td>\n",
       "      <td>0.00265</td>\n",
       "      <td>0.268</td>\n",
       "    </tr>\n",
       "    <tr>\n",
       "      <th>3</th>\n",
       "      <td>1CzjEJLqylcimdDZSdOf6h</td>\n",
       "      <td>Get Out Of Your Own Way</td>\n",
       "      <td>Songs Of Experience (Deluxe Edition)</td>\n",
       "      <td>0.770</td>\n",
       "      <td>238293.0</td>\n",
       "      <td>-9.655</td>\n",
       "      <td>0.4080</td>\n",
       "      <td>0.559</td>\n",
       "      <td>130.032</td>\n",
       "      <td>0.0539</td>\n",
       "      <td>0.000010</td>\n",
       "      <td>0.02180</td>\n",
       "      <td>0.511</td>\n",
       "    </tr>\n",
       "    <tr>\n",
       "      <th>4</th>\n",
       "      <td>5iPuZxiUeKljL5z8PIjypH</td>\n",
       "      <td>American Soul</td>\n",
       "      <td>Songs Of Experience (Deluxe Edition)</td>\n",
       "      <td>0.811</td>\n",
       "      <td>261733.0</td>\n",
       "      <td>-7.761</td>\n",
       "      <td>0.4000</td>\n",
       "      <td>0.582</td>\n",
       "      <td>130.006</td>\n",
       "      <td>0.0572</td>\n",
       "      <td>0.000032</td>\n",
       "      <td>0.03180</td>\n",
       "      <td>0.307</td>\n",
       "    </tr>\n",
       "  </tbody>\n",
       "</table>\n",
       "</div>"
      ],
      "text/plain": [
       "                       id                            name  \\\n",
       "0  5AJELyHZSWSdymDpaVMyoe        Love Is All We Have Left   \n",
       "1  51yhbYGf810PT1a3AYpUeS                  Lights Of Home   \n",
       "2  2meVI2BSKTac27IxMB8GfE  You’re The Best Thing About Me   \n",
       "3  1CzjEJLqylcimdDZSdOf6h         Get Out Of Your Own Way   \n",
       "4  5iPuZxiUeKljL5z8PIjypH                   American Soul   \n",
       "\n",
       "                                  album  energy  duration_ms  loudness  \\\n",
       "0  Songs Of Experience (Deluxe Edition)   0.295     161200.0   -14.812   \n",
       "1  Songs Of Experience (Deluxe Edition)   0.709     256893.0    -7.120   \n",
       "2  Songs Of Experience (Deluxe Edition)   0.783     225400.0    -6.706   \n",
       "3  Songs Of Experience (Deluxe Edition)   0.770     238293.0    -9.655   \n",
       "4  Songs Of Experience (Deluxe Edition)   0.811     261733.0    -7.761   \n",
       "\n",
       "   valence  danceability    tempo  speechiness  instrumentalness  \\\n",
       "0   0.0698         0.288  131.287       0.0367          0.000848   \n",
       "1   0.4610         0.615  145.961       0.0332          0.000000   \n",
       "2   0.7930         0.652  117.032       0.0379          0.000002   \n",
       "3   0.4080         0.559  130.032       0.0539          0.000010   \n",
       "4   0.4000         0.582  130.006       0.0572          0.000032   \n",
       "\n",
       "   acousticness  liveness  \n",
       "0       0.72300     0.130  \n",
       "1       0.08420     0.167  \n",
       "2       0.00265     0.268  \n",
       "3       0.02180     0.511  \n",
       "4       0.03180     0.307  "
      ]
     },
     "execution_count": 22,
     "metadata": {},
     "output_type": "execute_result"
    }
   ],
   "source": [
    "u2_df.head()"
   ]
  },
  {
   "cell_type": "markdown",
   "metadata": {},
   "source": [
    "## Analisys"
   ]
  },
  {
   "cell_type": "code",
   "execution_count": 24,
   "metadata": {},
   "outputs": [
    {
     "data": {
      "text/plain": [
       "['energy',\n",
       " 'duration_ms',\n",
       " 'loudness',\n",
       " 'valence',\n",
       " 'danceability',\n",
       " 'tempo',\n",
       " 'speechiness',\n",
       " 'instrumentalness',\n",
       " 'acousticness',\n",
       " 'liveness']"
      ]
     },
     "execution_count": 24,
     "metadata": {},
     "output_type": "execute_result"
    }
   ],
   "source": [
    "audio_features = u2_sdf.features\n",
    "audio_features"
   ]
  },
  {
   "cell_type": "markdown",
   "metadata": {},
   "source": [
    "### Get the audio features matrix for each band"
   ]
  },
  {
   "cell_type": "code",
   "execution_count": 28,
   "metadata": {},
   "outputs": [
    {
     "data": {
      "text/html": [
       "<div>\n",
       "<style scoped>\n",
       "    .dataframe tbody tr th:only-of-type {\n",
       "        vertical-align: middle;\n",
       "    }\n",
       "\n",
       "    .dataframe tbody tr th {\n",
       "        vertical-align: top;\n",
       "    }\n",
       "\n",
       "    .dataframe thead th {\n",
       "        text-align: right;\n",
       "    }\n",
       "</style>\n",
       "<table border=\"1\" class=\"dataframe\">\n",
       "  <thead>\n",
       "    <tr style=\"text-align: right;\">\n",
       "      <th></th>\n",
       "      <th>energy</th>\n",
       "      <th>duration_ms</th>\n",
       "      <th>loudness</th>\n",
       "      <th>valence</th>\n",
       "      <th>danceability</th>\n",
       "      <th>tempo</th>\n",
       "      <th>speechiness</th>\n",
       "      <th>instrumentalness</th>\n",
       "      <th>acousticness</th>\n",
       "      <th>liveness</th>\n",
       "      <th>band</th>\n",
       "    </tr>\n",
       "  </thead>\n",
       "  <tbody>\n",
       "    <tr>\n",
       "      <th>0</th>\n",
       "      <td>0.295</td>\n",
       "      <td>161200.0</td>\n",
       "      <td>-14.812</td>\n",
       "      <td>0.0698</td>\n",
       "      <td>0.288</td>\n",
       "      <td>131.287</td>\n",
       "      <td>0.0367</td>\n",
       "      <td>0.000848</td>\n",
       "      <td>0.72300</td>\n",
       "      <td>0.130</td>\n",
       "      <td>U2</td>\n",
       "    </tr>\n",
       "    <tr>\n",
       "      <th>1</th>\n",
       "      <td>0.709</td>\n",
       "      <td>256893.0</td>\n",
       "      <td>-7.120</td>\n",
       "      <td>0.4610</td>\n",
       "      <td>0.615</td>\n",
       "      <td>145.961</td>\n",
       "      <td>0.0332</td>\n",
       "      <td>0.000000</td>\n",
       "      <td>0.08420</td>\n",
       "      <td>0.167</td>\n",
       "      <td>U2</td>\n",
       "    </tr>\n",
       "    <tr>\n",
       "      <th>2</th>\n",
       "      <td>0.783</td>\n",
       "      <td>225400.0</td>\n",
       "      <td>-6.706</td>\n",
       "      <td>0.7930</td>\n",
       "      <td>0.652</td>\n",
       "      <td>117.032</td>\n",
       "      <td>0.0379</td>\n",
       "      <td>0.000002</td>\n",
       "      <td>0.00265</td>\n",
       "      <td>0.268</td>\n",
       "      <td>U2</td>\n",
       "    </tr>\n",
       "    <tr>\n",
       "      <th>3</th>\n",
       "      <td>0.770</td>\n",
       "      <td>238293.0</td>\n",
       "      <td>-9.655</td>\n",
       "      <td>0.4080</td>\n",
       "      <td>0.559</td>\n",
       "      <td>130.032</td>\n",
       "      <td>0.0539</td>\n",
       "      <td>0.000010</td>\n",
       "      <td>0.02180</td>\n",
       "      <td>0.511</td>\n",
       "      <td>U2</td>\n",
       "    </tr>\n",
       "    <tr>\n",
       "      <th>4</th>\n",
       "      <td>0.811</td>\n",
       "      <td>261733.0</td>\n",
       "      <td>-7.761</td>\n",
       "      <td>0.4000</td>\n",
       "      <td>0.582</td>\n",
       "      <td>130.006</td>\n",
       "      <td>0.0572</td>\n",
       "      <td>0.000032</td>\n",
       "      <td>0.03180</td>\n",
       "      <td>0.307</td>\n",
       "      <td>U2</td>\n",
       "    </tr>\n",
       "  </tbody>\n",
       "</table>\n",
       "</div>"
      ],
      "text/plain": [
       "   energy  duration_ms  loudness  valence  danceability    tempo  speechiness  \\\n",
       "0   0.295     161200.0   -14.812   0.0698         0.288  131.287       0.0367   \n",
       "1   0.709     256893.0    -7.120   0.4610         0.615  145.961       0.0332   \n",
       "2   0.783     225400.0    -6.706   0.7930         0.652  117.032       0.0379   \n",
       "3   0.770     238293.0    -9.655   0.4080         0.559  130.032       0.0539   \n",
       "4   0.811     261733.0    -7.761   0.4000         0.582  130.006       0.0572   \n",
       "\n",
       "   instrumentalness  acousticness  liveness band  \n",
       "0          0.000848       0.72300     0.130   U2  \n",
       "1          0.000000       0.08420     0.167   U2  \n",
       "2          0.000002       0.00265     0.268   U2  \n",
       "3          0.000010       0.02180     0.511   U2  \n",
       "4          0.000032       0.03180     0.307   U2  "
      ]
     },
     "execution_count": 28,
     "metadata": {},
     "output_type": "execute_result"
    }
   ],
   "source": [
    "u2_feats = u2_df.loc[:,audio_features]\n",
    "u2_feats['band'] = ['U2'] * len(u2_feats)\n",
    "u2_feats.head()"
   ]
  },
  {
   "cell_type": "code",
   "execution_count": 29,
   "metadata": {},
   "outputs": [
    {
     "data": {
      "text/html": [
       "<div>\n",
       "<style scoped>\n",
       "    .dataframe tbody tr th:only-of-type {\n",
       "        vertical-align: middle;\n",
       "    }\n",
       "\n",
       "    .dataframe tbody tr th {\n",
       "        vertical-align: top;\n",
       "    }\n",
       "\n",
       "    .dataframe thead th {\n",
       "        text-align: right;\n",
       "    }\n",
       "</style>\n",
       "<table border=\"1\" class=\"dataframe\">\n",
       "  <thead>\n",
       "    <tr style=\"text-align: right;\">\n",
       "      <th></th>\n",
       "      <th>energy</th>\n",
       "      <th>duration_ms</th>\n",
       "      <th>loudness</th>\n",
       "      <th>valence</th>\n",
       "      <th>danceability</th>\n",
       "      <th>tempo</th>\n",
       "      <th>speechiness</th>\n",
       "      <th>instrumentalness</th>\n",
       "      <th>acousticness</th>\n",
       "      <th>liveness</th>\n",
       "      <th>band</th>\n",
       "    </tr>\n",
       "  </thead>\n",
       "  <tbody>\n",
       "    <tr>\n",
       "      <th>0</th>\n",
       "      <td>0.744</td>\n",
       "      <td>251320.0</td>\n",
       "      <td>-5.827</td>\n",
       "      <td>0.711</td>\n",
       "      <td>0.617</td>\n",
       "      <td>126.459</td>\n",
       "      <td>0.0280</td>\n",
       "      <td>0.000004</td>\n",
       "      <td>0.006470</td>\n",
       "      <td>0.281</td>\n",
       "      <td>Leño</td>\n",
       "    </tr>\n",
       "    <tr>\n",
       "      <th>1</th>\n",
       "      <td>0.887</td>\n",
       "      <td>245693.0</td>\n",
       "      <td>-4.647</td>\n",
       "      <td>0.521</td>\n",
       "      <td>0.369</td>\n",
       "      <td>168.314</td>\n",
       "      <td>0.0669</td>\n",
       "      <td>0.000009</td>\n",
       "      <td>0.000106</td>\n",
       "      <td>0.171</td>\n",
       "      <td>Leño</td>\n",
       "    </tr>\n",
       "    <tr>\n",
       "      <th>2</th>\n",
       "      <td>0.774</td>\n",
       "      <td>265613.0</td>\n",
       "      <td>-5.385</td>\n",
       "      <td>0.569</td>\n",
       "      <td>0.273</td>\n",
       "      <td>188.265</td>\n",
       "      <td>0.1010</td>\n",
       "      <td>0.007260</td>\n",
       "      <td>0.136000</td>\n",
       "      <td>0.293</td>\n",
       "      <td>Leño</td>\n",
       "    </tr>\n",
       "    <tr>\n",
       "      <th>3</th>\n",
       "      <td>0.860</td>\n",
       "      <td>190667.0</td>\n",
       "      <td>-4.180</td>\n",
       "      <td>0.809</td>\n",
       "      <td>0.625</td>\n",
       "      <td>92.160</td>\n",
       "      <td>0.0251</td>\n",
       "      <td>0.000017</td>\n",
       "      <td>0.001170</td>\n",
       "      <td>0.136</td>\n",
       "      <td>Leño</td>\n",
       "    </tr>\n",
       "    <tr>\n",
       "      <th>4</th>\n",
       "      <td>0.889</td>\n",
       "      <td>151080.0</td>\n",
       "      <td>-8.192</td>\n",
       "      <td>0.798</td>\n",
       "      <td>0.438</td>\n",
       "      <td>181.142</td>\n",
       "      <td>0.1130</td>\n",
       "      <td>0.000021</td>\n",
       "      <td>0.022000</td>\n",
       "      <td>0.172</td>\n",
       "      <td>Leño</td>\n",
       "    </tr>\n",
       "  </tbody>\n",
       "</table>\n",
       "</div>"
      ],
      "text/plain": [
       "   energy  duration_ms  loudness  valence  danceability    tempo  speechiness  \\\n",
       "0   0.744     251320.0    -5.827    0.711         0.617  126.459       0.0280   \n",
       "1   0.887     245693.0    -4.647    0.521         0.369  168.314       0.0669   \n",
       "2   0.774     265613.0    -5.385    0.569         0.273  188.265       0.1010   \n",
       "3   0.860     190667.0    -4.180    0.809         0.625   92.160       0.0251   \n",
       "4   0.889     151080.0    -8.192    0.798         0.438  181.142       0.1130   \n",
       "\n",
       "   instrumentalness  acousticness  liveness  band  \n",
       "0          0.000004      0.006470     0.281  Leño  \n",
       "1          0.000009      0.000106     0.171  Leño  \n",
       "2          0.007260      0.136000     0.293  Leño  \n",
       "3          0.000017      0.001170     0.136  Leño  \n",
       "4          0.000021      0.022000     0.172  Leño  "
      ]
     },
     "execution_count": 29,
     "metadata": {},
     "output_type": "execute_result"
    }
   ],
   "source": [
    "leno_feats = leno_df.loc[:,audio_features]\n",
    "leno_feats['band'] = ['Leño'] * len(leno_feats)\n",
    "leno_feats.head()"
   ]
  },
  {
   "cell_type": "code",
   "execution_count": 33,
   "metadata": {},
   "outputs": [
    {
     "data": {
      "text/html": [
       "<div>\n",
       "<style scoped>\n",
       "    .dataframe tbody tr th:only-of-type {\n",
       "        vertical-align: middle;\n",
       "    }\n",
       "\n",
       "    .dataframe tbody tr th {\n",
       "        vertical-align: top;\n",
       "    }\n",
       "\n",
       "    .dataframe thead th {\n",
       "        text-align: right;\n",
       "    }\n",
       "</style>\n",
       "<table border=\"1\" class=\"dataframe\">\n",
       "  <thead>\n",
       "    <tr style=\"text-align: right;\">\n",
       "      <th></th>\n",
       "      <th>energy</th>\n",
       "      <th>duration_ms</th>\n",
       "      <th>loudness</th>\n",
       "      <th>valence</th>\n",
       "      <th>danceability</th>\n",
       "      <th>tempo</th>\n",
       "      <th>speechiness</th>\n",
       "      <th>instrumentalness</th>\n",
       "      <th>acousticness</th>\n",
       "      <th>liveness</th>\n",
       "      <th>band</th>\n",
       "    </tr>\n",
       "  </thead>\n",
       "  <tbody>\n",
       "    <tr>\n",
       "      <th>0</th>\n",
       "      <td>0.356</td>\n",
       "      <td>80639.0</td>\n",
       "      <td>-8.716</td>\n",
       "      <td>0.608</td>\n",
       "      <td>0.582</td>\n",
       "      <td>130.898</td>\n",
       "      <td>0.0321</td>\n",
       "      <td>0.1260</td>\n",
       "      <td>0.4520</td>\n",
       "      <td>0.1180</td>\n",
       "      <td>Da Souza</td>\n",
       "    </tr>\n",
       "    <tr>\n",
       "      <th>1</th>\n",
       "      <td>0.610</td>\n",
       "      <td>195882.0</td>\n",
       "      <td>-7.193</td>\n",
       "      <td>0.657</td>\n",
       "      <td>0.535</td>\n",
       "      <td>125.950</td>\n",
       "      <td>0.0299</td>\n",
       "      <td>0.2550</td>\n",
       "      <td>0.1340</td>\n",
       "      <td>0.1310</td>\n",
       "      <td>Da Souza</td>\n",
       "    </tr>\n",
       "    <tr>\n",
       "      <th>2</th>\n",
       "      <td>0.610</td>\n",
       "      <td>214981.0</td>\n",
       "      <td>-6.603</td>\n",
       "      <td>0.720</td>\n",
       "      <td>0.638</td>\n",
       "      <td>130.071</td>\n",
       "      <td>0.0304</td>\n",
       "      <td>0.0491</td>\n",
       "      <td>0.0598</td>\n",
       "      <td>0.1400</td>\n",
       "      <td>Da Souza</td>\n",
       "    </tr>\n",
       "    <tr>\n",
       "      <th>3</th>\n",
       "      <td>0.723</td>\n",
       "      <td>231531.0</td>\n",
       "      <td>-6.709</td>\n",
       "      <td>0.537</td>\n",
       "      <td>0.607</td>\n",
       "      <td>120.025</td>\n",
       "      <td>0.0285</td>\n",
       "      <td>0.1620</td>\n",
       "      <td>0.2160</td>\n",
       "      <td>0.2280</td>\n",
       "      <td>Da Souza</td>\n",
       "    </tr>\n",
       "    <tr>\n",
       "      <th>4</th>\n",
       "      <td>0.422</td>\n",
       "      <td>150776.0</td>\n",
       "      <td>-9.703</td>\n",
       "      <td>0.384</td>\n",
       "      <td>0.375</td>\n",
       "      <td>153.432</td>\n",
       "      <td>0.0424</td>\n",
       "      <td>0.5250</td>\n",
       "      <td>0.6220</td>\n",
       "      <td>0.0983</td>\n",
       "      <td>Da Souza</td>\n",
       "    </tr>\n",
       "  </tbody>\n",
       "</table>\n",
       "</div>"
      ],
      "text/plain": [
       "   energy  duration_ms  loudness  valence  danceability    tempo  speechiness  \\\n",
       "0   0.356      80639.0    -8.716    0.608         0.582  130.898       0.0321   \n",
       "1   0.610     195882.0    -7.193    0.657         0.535  125.950       0.0299   \n",
       "2   0.610     214981.0    -6.603    0.720         0.638  130.071       0.0304   \n",
       "3   0.723     231531.0    -6.709    0.537         0.607  120.025       0.0285   \n",
       "4   0.422     150776.0    -9.703    0.384         0.375  153.432       0.0424   \n",
       "\n",
       "   instrumentalness  acousticness  liveness      band  \n",
       "0            0.1260        0.4520    0.1180  Da Souza  \n",
       "1            0.2550        0.1340    0.1310  Da Souza  \n",
       "2            0.0491        0.0598    0.1400  Da Souza  \n",
       "3            0.1620        0.2160    0.2280  Da Souza  \n",
       "4            0.5250        0.6220    0.0983  Da Souza  "
      ]
     },
     "execution_count": 33,
     "metadata": {},
     "output_type": "execute_result"
    }
   ],
   "source": [
    "doki_feats = doki_df.loc[:, audio_features]\n",
    "doki_feats['band'] = ['Da Souza'] * len(doki_feats)\n",
    "doki_feats.head()"
   ]
  },
  {
   "cell_type": "code",
   "execution_count": 64,
   "metadata": {},
   "outputs": [],
   "source": [
    "tot_df = pd.concat([u2_feats, leno_feats, doki_feats], ignore_index=True)"
   ]
  },
  {
   "cell_type": "markdown",
   "metadata": {},
   "source": [
    "### Normalize and project!"
   ]
  },
  {
   "cell_type": "code",
   "execution_count": 67,
   "metadata": {},
   "outputs": [],
   "source": [
    "from sklearn.preprocessing import MinMaxScaler, StandardScaler\n",
    "from sklearn.decomposition import PCA\n",
    "import umap\n",
    "\n",
    "import matplotlib.pyplot as plt\n",
    "import seaborn as sns\n",
    "sns.set(style='white')"
   ]
  },
  {
   "cell_type": "code",
   "execution_count": 65,
   "metadata": {},
   "outputs": [],
   "source": [
    "bands = tot_df.band\n",
    "tot_df.drop('band', axis=1, inplace=True)"
   ]
  },
  {
   "cell_type": "code",
   "execution_count": 68,
   "metadata": {},
   "outputs": [],
   "source": [
    "scaler = StandardScaler()\n",
    "song_scaled = scaler.fit_transform(tot_df)"
   ]
  },
  {
   "cell_type": "markdown",
   "metadata": {},
   "source": [
    "Project into 2d with UMAP"
   ]
  },
  {
   "cell_type": "code",
   "execution_count": 84,
   "metadata": {},
   "outputs": [],
   "source": [
    "projector = umap.UMAP(n_neighbors=17)"
   ]
  },
  {
   "cell_type": "code",
   "execution_count": 85,
   "metadata": {},
   "outputs": [],
   "source": [
    "song_proj = projector.fit_transform(song_scaled)"
   ]
  },
  {
   "cell_type": "code",
   "execution_count": 86,
   "metadata": {},
   "outputs": [
    {
     "data": {
      "text/plain": [
       "<matplotlib.axes._subplots.AxesSubplot at 0x7fae44188dd8>"
      ]
     },
     "execution_count": 86,
     "metadata": {},
     "output_type": "execute_result"
    },
    {
     "data": {
      "image/png": "[encoded data removed]",
      "text/plain": [
       "<Figure size 576x576 with 1 Axes>"
      ]
     },
     "metadata": {},
     "output_type": "display_data"
    }
   ],
   "source": [
    "plt.figure(figsize=(8, 8))\n",
    "sns.scatterplot(song_proj[:,0], song_proj[:,1], hue=bands, style=bands)"
   ]
  },
  {
   "cell_type": "code",
   "execution_count": 87,
   "metadata": {},
   "outputs": [],
   "source": [
    "projector = PCA(n_components=2)\n",
    "song_proj = projector.fit_transform(song_scaled)"
   ]
  },
  {
   "cell_type": "code",
   "execution_count": 88,
   "metadata": {},
   "outputs": [
    {
     "data": {
      "text/plain": [
       "<matplotlib.axes._subplots.AxesSubplot at 0x7fae4414ff98>"
      ]
     },
     "execution_count": 88,
     "metadata": {},
     "output_type": "execute_result"
    },
    {
     "data": {
      "image/png": "[encoded data removed]",
      "text/plain": [
       "<Figure size 576x576 with 1 Axes>"
      ]
     },
     "metadata": {},
     "output_type": "display_data"
    }
   ],
   "source": [
    "plt.figure(figsize=(8, 8))\n",
    "sns.scatterplot(song_proj[:,0], song_proj[:,1], hue=bands, style=bands)"
   ]
  },
  {
   "cell_type": "code",
   "execution_count": null,
   "metadata": {},
   "outputs": [],
   "source": []
  }
 ],
 "metadata": {
  "kernelspec": {
   "display_name": "Python 3",
   "language": "python",
   "name": "python3"
  },
  "language_info": {
   "codemirror_mode": {
    "name": "ipython",
    "version": 3
   },
   "file_extension": ".py",
   "mimetype": "text/x-python",
   "name": "python",
   "nbconvert_exporter": "python",
   "pygments_lexer": "ipython3",
   "version": "3.6.6"
  }
 },
 "nbformat": 4,
 "nbformat_minor": 2
}
